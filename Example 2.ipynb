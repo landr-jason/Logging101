{
 "cells": [
  {
   "cell_type": "markdown",
   "id": "0a7bf570",
   "metadata": {},
   "source": [
    "# Objective: \n",
    "- Output ERROR logs for a module to a different file.\n",
    "(View module logger definition in src/mock_module.py\n",
    "\n",
    "## From previous example:\n",
    "- Output all logs to console\n",
    "- Write ERROR and above to file"
   ]
  },
  {
   "cell_type": "code",
   "execution_count": null,
   "id": "8e0d982e",
   "metadata": {},
   "outputs": [],
   "source": [
    "output_filename = 'example2.log'\n",
    "LOG_CONFIG = {\n",
    "    'version': 1,\n",
    "    'disable_existing_loggers': False,\n",
    "    'formatters': {\n",
    "        'default_formatter': {\n",
    "            'format': '[%(levelname)s:%(asctime)s] EXAMPLE 2 :: %(message)s'\n",
    "        },\n",
    "    },\n",
    "    'handlers': {\n",
    "        'stream_handler': {\n",
    "            'class': 'logging.StreamHandler',\n",
    "            'formatter': 'default_formatter',\n",
    "        },\n",
    "        'file_handler': {\n",
    "            'level': 'ERROR',\n",
    "            'class': 'logging.FileHandler',\n",
    "            'formatter': 'default_formatter',\n",
    "            'filename': output_filename\n",
    "        },\n",
    "    },\n",
    "    'loggers': {\n",
    "        __name__: {\n",
    "            'handlers': ['stream_handler', 'file_handler'],\n",
    "            'level': 'DEBUG',\n",
    "            'propagate': False\n",
    "        }\n",
    "    }\n",
    "}\n",
    "\n",
    "\n",
    "import logging.config\n",
    "logging.config.dictConfig(LOG_CONFIG)\n",
    "logger = logging.getLogger(__name__)\n",
    "\n",
    "def parent_fn(): \n",
    "    logger.debug(\"DEBUG message\")\n",
    "    logger.info(\"INFO message\")\n",
    "    logger.warning(\"WARNING message\")\n",
    "    logger.error(\"ERROR message\")\n",
    "    logger.critical(\"CRITICAL message\")"
   ]
  },
  {
   "cell_type": "code",
   "execution_count": null,
   "id": "8469d3e9",
   "metadata": {},
   "outputs": [],
   "source": [
    "from src.mock_module import mock_function \n",
    "\n",
    "parent_fn()\n",
    "module_name, module_output_filename = mock_function('EXAMPLE 2')\n",
    "\n",
    "# Should output only parent_fn log messages (no MODULE messages):"
   ]
  },
  {
   "cell_type": "code",
   "execution_count": null,
   "id": "88b10c96",
   "metadata": {},
   "outputs": [],
   "source": [
    "f = open(module_output_filename, \"r\")\n",
    "print(f.read())\n",
    "# Should contain only ERROR and CRITICAL MODULE messages:"
   ]
  },
  {
   "cell_type": "code",
   "execution_count": null,
   "id": "cc4cb486",
   "metadata": {},
   "outputs": [],
   "source": [
    "f = open(output_filename, \"r\")\n",
    "print(f.read())\n",
    "# Should display only ERROR and CRITICAL messages from parent_fn (no MODULE messages):"
   ]
  }
 ],
 "metadata": {
  "kernelspec": {
   "display_name": "logging-101",
   "language": "python",
   "name": "logging-101"
  },
  "language_info": {
   "codemirror_mode": {
    "name": "ipython",
    "version": 3
   },
   "file_extension": ".py",
   "mimetype": "text/x-python",
   "name": "python",
   "nbconvert_exporter": "python",
   "pygments_lexer": "ipython3",
   "version": "3.8.5"
  }
 },
 "nbformat": 4,
 "nbformat_minor": 5
}
