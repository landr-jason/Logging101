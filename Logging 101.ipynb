{
 "cells": [
  {
   "cell_type": "markdown",
   "id": "9a7e81c3",
   "metadata": {
    "slideshow": {
     "slide_type": "slide"
    }
   },
   "source": [
    "# Logging\n",
    "Logging is essential to track events that happen during the execution of software.\n",
    "\n",
    "Logs are used for two main purposes:\n",
    "- To track standard processing tasks, or monitor user behavior (i.e. \"*audit logging*\") \n",
    "- To bringing attention to potential implementation issues or to assist in debugging (i.e. \"*diagnostic logging*\")\n",
    "\n"
   ]
  },
  {
   "cell_type": "markdown",
   "id": "6aba1b4f",
   "metadata": {
    "slideshow": {
     "slide_type": "slide"
    }
   },
   "source": [
    "## Why not use print?\n",
    "`print` can have it's uses for debugging very simple scripts but bigger, more complete software solutions will require proper logging solutions.\n",
    "\n",
    "For one, log records created during a log event included additional **diagnostic information** such the filename, function name, time, etc.\n",
    "\n",
    "Additionally, handlers can be created for different **levels of severity**. Making it easy to display low severity logs in the console, while persisting high severity logs in a file.\n",
    "\n",
    "`print`, on the other hand, will always display to the console, and any additional context must be manually formatted and appended to the message.\n",
    "\n"
   ]
  },
  {
   "cell_type": "markdown",
   "id": "8368aeb9",
   "metadata": {
    "slideshow": {
     "slide_type": "slide"
    }
   },
   "source": [
    "## Log Levels\n",
    "There are 5 standard log levels, in order of severity:\n",
    "\n",
    "- DEBUG (10)\n",
    "- INFO (20)\n",
    "- WARNING (30)\n",
    "- ERROR (40)\n",
    "- CRITICAL (50)\n",
    "\n",
    "Ok, there is actually a 6th level in Python called \"NOTSET\" (0) but it's basically just used to make inheritance from parent loggers more explicit.\n",
    "\n"
   ]
  },
  {
   "cell_type": "markdown",
   "id": "413b3dd4",
   "metadata": {
    "slideshow": {
     "slide_type": "subslide"
    }
   },
   "source": [
    "### DEBUG\n",
    "The \"debug\" log level is for **detailed output used for diagnostic processes**.\n",
    "\n",
    "The output of such logs are usually suppresed in a production context. They might still be written to a log file to facilate debugging historical actions. Although more likely, they are temporarily enabled to resolve a specific issue or only displays during development.\n"
   ]
  },
  {
   "cell_type": "markdown",
   "id": "46f0f97c",
   "metadata": {
    "slideshow": {
     "slide_type": "subslide"
    }
   },
   "source": [
    "### INFO\n",
    "The \"info\" log level is used to **track normal operations**. They can be useful to confirm things are working as expected.\n",
    "\n",
    "Similar to \"debug\" logs, the output of these logs might be suppresed in production in favor of being written to a log file.\n"
   ]
  },
  {
   "cell_type": "markdown",
   "id": "a079b17e",
   "metadata": {
    "slideshow": {
     "slide_type": "subslide"
    }
   },
   "source": [
    "### WARNING\n",
    "\"warning\" logs are used to **indicate that something went wrong, something may go wrong or something important happened**. Conditions creating log warnings are not critical to the operation of the software but need to be brought to the developers' attention. Some examples would be: if a process is taking longer than expected, or flagging that disk space is running low.\n",
    "\n",
    "These logs are more rarely suppressed.\n"
   ]
  },
  {
   "cell_type": "markdown",
   "id": "8e6c1ff7",
   "metadata": {
    "slideshow": {
     "slide_type": "subslide"
    }
   },
   "source": [
    "### ERROR\n",
    "Error logs are used to **flag serious problems in the operation of software**. \n",
    "They are used instead of raising an actual error in order to ensure the software keeps running.\n",
    "\n",
    "These logs should never be suppressed.\n"
   ]
  },
  {
   "cell_type": "markdown",
   "id": "fe140b65",
   "metadata": {
    "slideshow": {
     "slide_type": "subslide"
    }
   },
   "source": [
    "### CRITICAL\n",
    "Critical logs reflect a **very serious problem**. They should be used if the software is at risk of being unable to continue operating.\n",
    "\n",
    "These logs should never be suppressed."
   ]
  },
  {
   "cell_type": "markdown",
   "id": "b5ecaa34",
   "metadata": {
    "slideshow": {
     "slide_type": "slide"
    }
   },
   "source": [
    "## When to log rather than raise an error?\n",
    "Deciding whether an error should be suppresed by creating an error log vs raising the error is dependant on runtime context and the expected behavior of the software. \n",
    "\n",
    "For example, a manually executed script that encounters an error preventing further processing should raise an error in order to kill the process, and be informative enough for the developer to address the issue and relaunch the script.\n",
    "\n",
    "On the other hand, if a script has to process hundreds of entries and it encounters an error at the Xth entry, it might be better to log that error, and finish processing the remaining entries. In such a situation, the information contained in the error should be sufficient for a developper to investigate (and hopefully fix) the issue, as well as isolate and re-process problematic entries. Some things to consider: entry identifier, what happened?, where in the code?, what action was taken? \n",
    "\n",
    "\n",
    "In the context of a long-runing process such as a webserver. Raising errors would kill the process and therefore extend the scope of impact to other users. In such a situation, the errors will almost always be suppressed and are very likely to be sent to a log monitoring solution.\n",
    "\n",
    "Finally, particular consideration should be taken when the end-user is not a developper. Error messages should help them fix or report a problem. Cryptic references to source code are not useful in this context. Such details should be sent to a separate log, which can be cross-referenced with the user report to obtain a fuller picture during diagnosis.\n",
    "\n"
   ]
  },
  {
   "cell_type": "markdown",
   "id": "7107590c",
   "metadata": {
    "slideshow": {
     "slide_type": "slide"
    }
   },
   "source": [
    "## Example 1\n",
    "2 functions are used to handle the calls to an api endpoint:\n",
    "\n",
    "\n",
    "```python\n",
    "def generate_filters(content):\n",
    "    filters = get_default_filters()  # triggers a database request\n",
    "    for c in content:\n",
    "        filters.append(c.value)\n",
    "    return filters\n",
    "\n",
    "def api_request(query):\n",
    "    return {\n",
    "        \"success\": True,\n",
    "        \"filters\": generate_filters(query.content)\n",
    "    }\n",
    "```\n",
    "\n",
    "\n",
    "Improve this function by:\n",
    "\n",
    "- Handling a `None` value in query.content\n",
    "- Handling an error in `get_default_filters` when attempting to communicate with the database"
   ]
  },
  {
   "cell_type": "markdown",
   "id": "8ddbf58b",
   "metadata": {
    "slideshow": {
     "slide_type": "subslide"
    }
   },
   "source": [
    "Proposed solution:\n",
    "```python\n",
    "def generate_filters(content):\n",
    "    filters = get_default_filters() # triggers a database request\n",
    "    for c in content:\n",
    "        try:\n",
    "            filters.append(c.value)\n",
    "        except Exception as e:\n",
    "            logger.warn(f'There was a problem processing filters f{c}')\n",
    "    return filters\n",
    "\n",
    "\n",
    "def api_request(query):\n",
    "    try:\n",
    "        return {\n",
    "            \"success\": True,\n",
    "            \"filters\": generate_filters(query.content)\n",
    "        }\n",
    "\n",
    "    except Exception as e:\n",
    "        logger.error(e, exc_info=True)\n",
    "        return {\n",
    "            \"success\": False,\n",
    "            \"filters\": [],\n",
    "            \"message\": \"Failed to generate filters.\"\n",
    "        }\n",
    "```"
   ]
  },
  {
   "cell_type": "markdown",
   "id": "43dc9bfe",
   "metadata": {
    "slideshow": {
     "slide_type": "slide"
    },
    "tags": [
     "hide-cell"
    ]
   },
   "source": [
    "## Example 2\n",
    "A function loads a cached datastructure:\n",
    "```python\n",
    "def _get_pickled_data(name:str):\n",
    "    f = open(f'cache/{name}.pickle', 'rb')\n",
    "    users = pickle.load(f)\n",
    "    f.close()\n",
    "    return users\n",
    "```\n",
    "\n",
    "Improve this function by:\n",
    "- Adding output to confirm the cache file was loaded\n",
    "- Handle errors during loading\n"
   ]
  },
  {
   "cell_type": "markdown",
   "id": "a46d4db3",
   "metadata": {
    "slideshow": {
     "slide_type": "subslide"
    }
   },
   "source": [
    "Proposed solution:\n",
    "```python\n",
    "def _get_pickled_data(name:str):\n",
    "    try:\n",
    "        f = open(f'cache/{name}.pickle', 'rb')\n",
    "        users = pickle.load(f)\n",
    "        f.close()\n",
    "        logger.warn(f'Loaded \"{name}\" pickle')\n",
    "        return users\n",
    "    except FileNotFoundError:\n",
    "        logger.warn(f'\"{name}\" pickle not found')\n",
    "        return pd.DataFrame()\n",
    "    except Exception as e:\n",
    "        raise (e)\n",
    "```\n"
   ]
  },
  {
   "cell_type": "markdown",
   "id": "7d62db08",
   "metadata": {
    "slideshow": {
     "slide_type": "slide"
    }
   },
   "source": [
    "## Example 3\n",
    "\n",
    "A function executes two processes and combines the result:\n",
    "\n",
    "```python\n",
    "def get_results(content, useExact, useSemantic):\n",
    "    results = []\n",
    "    if useExact:\n",
    "        exact_results = search(content)\n",
    "        results = exact_results\n",
    "\n",
    "    if useSemantic:\n",
    "        semantic_results = weaviate_search(content)\n",
    "        results = results + semantic_results\n",
    "\n",
    "    return results\n",
    "```\n",
    "\n",
    "\n",
    "Improve the function by:\n",
    "- Helping a user monitor the progression of the function\n",
    "- Helping a developper track the results of each operation\n"
   ]
  },
  {
   "cell_type": "markdown",
   "id": "68d69098",
   "metadata": {
    "slideshow": {
     "slide_type": "subslide"
    }
   },
   "source": [
    "Proposed solution:\n",
    "```python\n",
    "def get_results(content, useExact, useSemantic):\n",
    "    logger.info(f'Getting results for: \"{query}\" with exact={useExact} and semantic={useSemantic}...')\n",
    "\n",
    "    results = []\n",
    "    if useExact:\n",
    "        exact_results = search(content)\n",
    "        logger.debug(f\"Number of exact results: {len(exact_results)}\")\n",
    "        results = exact_results\n",
    "\n",
    "    if useSemantic:\n",
    "        semantic_results = weaviate_search(content)\n",
    "        logger.debug(f\"Number of semantic results: {len(semantic_results)}\")\n",
    "        results = results + semantic_results\n",
    "\n",
    "    logger.debug(f\"Number of combined results {len(results)}\")\n",
    "    return results\n",
    "```\n",
    "\n"
   ]
  },
  {
   "cell_type": "markdown",
   "id": "b7cf6cf6",
   "metadata": {
    "slideshow": {
     "slide_type": "slide"
    }
   },
   "source": [
    "## Standard streams\n",
    "There are three interconnected, independant, input and output communication channels: **stdin**, **stdout**, **stderr**. \n",
    "\n",
    "stdin is not of interested in the context of logging since it relates to input. Whereas, stdout and stderr relate to output.\n",
    "\n",
    "There isn't really a fundamental difference between stdout and stderr. The difference is one of convention.\n",
    "\n",
    "This convention suggests that:\n",
    "- **the final output** of an operation should be sent to **stdout**\n",
    "- **stderr** should be used for **error messages or diagnostics information**"
   ]
  },
  {
   "cell_type": "markdown",
   "id": "d7ba38a7",
   "metadata": {
    "slideshow": {
     "slide_type": "subslide"
    }
   },
   "source": [
    "**Example**\n",
    "\n",
    "You need to program a calculator script that handles basic additions.\n",
    "\n",
    "Additionally, this calculator needs to monitor invokations for analytical perposes. This tracking is done by sending the invokation details to a webserver. Two messages are creating during this process: an initial \"sending result to server...\", and if an error is encountered, a \"webserver not responding\" messages.\n",
    "\n",
    "**Question**\n",
    "\n",
    "The script is asked to compute `1 + 2` but a network issue prevents communication with the webserver.\n",
    "\n",
    "- Where should the result be sent? \n",
    "- Where should the analytics messages be sent?\n",
    "- Are there any additional considerations?\n"
   ]
  },
  {
   "cell_type": "markdown",
   "id": "33c08d61",
   "metadata": {
    "slideshow": {
     "slide_type": "subslide"
    }
   },
   "source": [
    "Proposed solution:\n",
    "- The answer (`3`) should be sent to stdout.\n",
    "- Both messages (\"sending result to server...\" and \"webserver not responding\") should be sent to stderr as \"INFO\" and \"ERROR\" events, respectively."
   ]
  },
  {
   "cell_type": "markdown",
   "id": "ae46d043",
   "metadata": {
    "slideshow": {
     "slide_type": "fragment"
    }
   },
   "source": [
    "By sending the messages to stderr, a user would be able to monitor progress and errors through stderr.\n",
    "\n",
    "They would also still being able to process the output of the operation since stdout is not \"polluted\" by the logging messages. For example: by piping it to another process (`calc \"2 + 1\" | multiply \"5\"`)."
   ]
  },
  {
   "cell_type": "markdown",
   "id": "9b54ef0d",
   "metadata": {
    "slideshow": {
     "slide_type": "subslide"
    }
   },
   "source": [
    "### Redirecting streams\n",
    "Each standard stream has a unique id which can be used to redirect stream output."
   ]
  },
  {
   "cell_type": "markdown",
   "id": "f946479b",
   "metadata": {
    "slideshow": {
     "slide_type": "subslide"
    }
   },
   "source": [
    "#### stdout (id = 1)\n",
    "Redirect stdout by using `>` to overwrite, or `>>` to append.\n",
    "\n",
    "Ex: `calc \"2 + 1\" > output.txt` would write \"3\" to output.txt."
   ]
  },
  {
   "cell_type": "markdown",
   "id": "3c5301c1",
   "metadata": {
    "slideshow": {
     "slide_type": "subslide"
    }
   },
   "source": [
    "#### stderr (id = 2)\n",
    "Redirect stderr by using `2>` to overwrite, or `2>>` to append.\n",
    "\n",
    "Ex: `calc \"2 + 1\" 2>> error.txt` would append \"sending result to server...webserver not responding\" to error.txt."
   ]
  },
  {
   "cell_type": "markdown",
   "id": "9bb0162a",
   "metadata": {
    "slideshow": {
     "slide_type": "subslide"
    }
   },
   "source": [
    "#### Both\n",
    "To redirect stderr and stdout to different files: `calc \"2 + 1\" 1> output.txt 2> error.txt`\n",
    "\n",
    "To redirect to the same file: `calc \"2 + 1\" &> output_and_error.txt`"
   ]
  },
  {
   "cell_type": "markdown",
   "id": "a9a08a96",
   "metadata": {
    "slideshow": {
     "slide_type": "subslide"
    }
   },
   "source": [
    "#### Suppressing streams\n",
    "The usual way to suppress output streams is to redirect them to `/dev/null`.\n",
    "\n",
    "To suppress stderr output:\n",
    "`calc \"2 + 1\" 2> /dev/null`"
   ]
  },
  {
   "cell_type": "markdown",
   "id": "74888111",
   "metadata": {
    "slideshow": {
     "slide_type": "slide"
    }
   },
   "source": [
    "## Python logging\n",
    "Python's logging module enables us to manage the processing and output for log events through the use of **handlers** and **formatters**.\n"
   ]
  },
  {
   "cell_type": "markdown",
   "id": "2abb9942",
   "metadata": {
    "slideshow": {
     "slide_type": "subslide"
    }
   },
   "source": [
    "To create a logger:\n",
    "\n",
    "```python\n",
    "import logging\n",
    "logging.basicConfig()\n",
    "\n",
    "```\n",
    "\n",
    "\n",
    "To use it:\n",
    "```python\n",
    "logging.warning(\"Warning message\")\n",
    "logging.info(\"info message\")\n",
    "\n",
    "```"
   ]
  },
  {
   "cell_type": "markdown",
   "id": "a3bab0ee",
   "metadata": {
    "slideshow": {
     "slide_type": "fragment"
    }
   },
   "source": [
    "**NOTE** Because the default level is WARNING. Only log messages at or above the WARNING level will be printed. As a result, the \"info message\" will be suppressed. Calling `logging.basicConfig(level=logging.INFO)` would ensure info messages are processed."
   ]
  },
  {
   "cell_type": "markdown",
   "id": "21daab83",
   "metadata": {
    "slideshow": {
     "slide_type": "slide"
    }
   },
   "source": [
    "#### Handlers\n",
    "Log handlers **define the output destination** for log events. \n",
    "\n",
    "Handlers make it possible to display to the console, write to a file, send an email, send to a queue, and more. A list of handlers can be found in the Python docs: https://docs.python.org/3/howto/logging.html#useful-handlers."
   ]
  },
  {
   "cell_type": "markdown",
   "id": "5ac3d354",
   "metadata": {
    "slideshow": {
     "slide_type": "subslide"
    }
   },
   "source": [
    "Handlers have two key properties: a **formatter** and a **log level** which define how the log message should be formatted, and which level of logs should be handled.\n",
    "\n",
    "By defining different handlers for different log levels, it is possible to, for example, write DEBUG logs to a file while displaying INFO, and WARNING logs, and writing ERROR and CRITICAL logs to a second file."
   ]
  },
  {
   "cell_type": "markdown",
   "id": "67801438",
   "metadata": {
    "slideshow": {
     "slide_type": "subslide"
    }
   },
   "source": [
    "##### Write to a file with FileHandler\n",
    "You can pass a `file` parameter when calling `basicConfig` to write log messages to a file.\n",
    "\n",
    "The following example would write INFO and above logs to the \"output.log\" file:\n",
    "```python\n",
    "logging.basicConfig(level=logging.INFO, file=\"output.log\")\n",
    "```\n",
    "\n",
    "Alternately, create it by calling `FileHandler`:\n",
    "```python\n",
    "logging.basicConfig(level=logging.INFO)\n",
    "file_handler = logging.FileHandler(\"output.log\")\n",
    "```\n",
    "\n",
    "You can use `TimedRotatingFileHandler` or `RotatingFileHandler` instead of `FileHandler` to automatically rotate log files based on a schedule or file size. For more on file handlers: https://docs.python.org/3/library/logging.handlers.html#logging.FileHandler"
   ]
  },
  {
   "cell_type": "markdown",
   "id": "195cb8fa",
   "metadata": {
    "slideshow": {
     "slide_type": "subslide"
    }
   },
   "source": [
    "##### Redirect to console with StreamHandler\n",
    "Use the `StreamHandler` to output to the console:\n",
    "```\n",
    "console_handler = logging.StreamHandler()\n",
    "```"
   ]
  },
  {
   "cell_type": "markdown",
   "id": "5ae78210",
   "metadata": {
    "slideshow": {
     "slide_type": "slide"
    }
   },
   "source": [
    "#### Formatters\n",
    "Logs are only as useful as the information they contain. As such, it is important to include some context around the log messages. This can be accomplished with log formatting. A full list of available attributes is available here: https://docs.python.org/3/library/logging.html#logrecord-attributes\n",
    "\n",
    "For most use cases, including the log level, message (with variable data) and the date/time is good enough:\n",
    "\n",
    "```python\n",
    "logging.basicConfig(format='%(asctime)s :: %(levelname)s :: %(message)s')\n",
    "```\n",
    "\n",
    "Adding more contextual data such as the filename generating the log (`%(filename)s`), the function generating the log (`%(funcName)s`), and the linenumber (`%(lineno)d`) may be relevant.\n",
    "\n",
    "Alternatively, if traceback information is important for a particular log message, `logging.exception` should be used because it appends this information automatically or call `logging.error` with \t`exc_info` set to true (`logging.error(e, exc_info=True)`). \n",
    "\n",
    "If trying to obtain the stack trace for an unhandled exception, import the `traceback` module and call ` logging.error(\"uncaught exception: %s\", traceback.format_exc())`."
   ]
  },
  {
   "cell_type": "markdown",
   "id": "bd5881d1",
   "metadata": {
    "slideshow": {
     "slide_type": "slide"
    }
   },
   "source": [
    "### Using a custom logger\n",
    "So far logging was being done through the default (also known as \"root\") logger. This is generally accepted to be an anti-pattern since it means all modules use the same logger, and becomes particularly problematic since `logging.basicConfig` cannot be changed once set. Imported modules would therefore be unable to modify the logger, and all logs would end up in the same outputs regardless of their origin."
   ]
  },
  {
   "cell_type": "markdown",
   "id": "3595389c",
   "metadata": {
    "slideshow": {
     "slide_type": "subslide"
    }
   },
   "source": [
    "#### Create a custom logger\n",
    "Calling `logging.getLogger` will either create a new logger or return an existing one if a logger with the given name already exists. \n",
    "\n",
    "```python\n",
    "logger = logging.getLogger(__name__)\n",
    "logger.info('module log message')\n",
    "```\n",
    "\n",
    "Using the `__name__` variable as a parameter means the logger will be named after the module, and thus facilitates debugging.\n",
    "\n",
    "It is important to note that loggers have a hierarchy, and the root logger is at the top of this hierarchy. Any properties set on a parent logger will be applied to the child modules unless overriden. As such, if the root logger has `level=logging.ERROR`, and your custom logger does not set a level. The child logger will inherit `level=logging.ERROR` from the root logger, rather than the usual default of WARNING.\n",
    "\n",
    "Additionally, the logger hierarchy follows the dot notation. If a \"bob\" logger is created, and then a \"bob.burger\" logger is created. The \"bob.burger\" will be a child of the \"bob\" logger, and inherit it's properties. An exception being that if \"bob.burger\" is created before \"bob\", both will have \"root\" as their parent.\n"
   ]
  },
  {
   "cell_type": "markdown",
   "id": "faa0af86",
   "metadata": {
    "slideshow": {
     "slide_type": "subslide"
    }
   },
   "source": [
    "### Configuring with a file\n",
    "Logging comes with a `dictConfig` method, which makes it possible to define loggers using a dictionary. There is also a `fileConfig` method but the official Python recomendation is to use `dictConfig`.\n"
   ]
  },
  {
   "cell_type": "markdown",
   "id": "a64a1e44",
   "metadata": {
    "slideshow": {
     "slide_type": "subslide"
    }
   },
   "source": [
    "A simple configuration file looks like:\n",
    "```python\n",
    "LOG_CONFIG = {\n",
    "    'version': 1,\n",
    "    'disable_existing_loggers': False,\n",
    "    'formatters': {\n",
    "        'default_formatter': {\n",
    "            'format': '[%(levelname)s:%(asctime)s] %(message)s'\n",
    "        },\n",
    "    },\n",
    "    'handlers': {\n",
    "        'stream_handler': {\n",
    "            'class': 'logging.StreamHandler',\n",
    "            'formatter': 'default_formatter',\n",
    "        },\n",
    "    },\n",
    "    'loggers': {\n",
    "        'custom_logger': {\n",
    "            'handlers': ['stream_handler'],\n",
    "            'level': 'INFO',\n",
    "            'propagate': False\n",
    "        }\n",
    "    }\n",
    "}\n",
    "```"
   ]
  },
  {
   "cell_type": "markdown",
   "id": "479a2d42",
   "metadata": {
    "slideshow": {
     "slide_type": "fragment"
    }
   },
   "source": [
    "It is rather important to include the `disable_existing_loggers` parameter since the default value is `True` and will result in any non-root loggers created before the call to `dictConfig` to be disabled."
   ]
  },
  {
   "cell_type": "markdown",
   "id": "a75f2c83",
   "metadata": {
    "slideshow": {
     "slide_type": "fragment"
    }
   },
   "source": [
    "It is advised to define handler behavior as high in the logger hierarchy as possible, and let the configurations propagate to lower lever loggers rather than redefining them individually."
   ]
  },
  {
   "cell_type": "markdown",
   "id": "6e81d931",
   "metadata": {
    "slideshow": {
     "slide_type": "fragment"
    }
   },
   "source": [
    "Setting `propagate` to False prevents the events logged to this logger to be passed to the handlers of higher level (ancestor) loggers.\n",
    "Otherwise, messages are passed directly to the ancestor loggers’ handlers - neither the level nor filters of the ancestor loggers in question are considered."
   ]
  },
  {
   "cell_type": "markdown",
   "id": "1ad7fc96",
   "metadata": {
    "slideshow": {
     "slide_type": "subslide"
    }
   },
   "source": [
    "To use the previously defined configuration file:\n",
    "```python\n",
    "import logging.config\n",
    "from .config import LOG_CONFIG\n",
    "\n",
    "logging.config.dictConfig(LOG_CONFIG)\n",
    "logger = logging.getLogger(__name__)\n",
    "```"
   ]
  },
  {
   "cell_type": "markdown",
   "id": "5d6b9f26",
   "metadata": {
    "slideshow": {
     "slide_type": "slide"
    }
   },
   "source": [
    "### Examples\n",
    "#### 1- Output all logs to console, write ERROR and above to file\n",
    "http://localhost:8888/notebooks/Example%201.ipynb\n",
    "\n",
    "\n",
    "#### 2- Output ERROR logs for a module to a different file\n",
    "http://localhost:8888/notebooks/Example%202.ipynb\n",
    "\n",
    "\n",
    "#### 3- Override imported logger configuration\n",
    "http://localhost:8888/notebooks/Example%203.ipynb"
   ]
  },
  {
   "cell_type": "markdown",
   "id": "6827c3ec",
   "metadata": {
    "slideshow": {
     "slide_type": "slide"
    }
   },
   "source": [
    "### Python best practices"
   ]
  },
  {
   "cell_type": "markdown",
   "id": "bc3bb539",
   "metadata": {
    "slideshow": {
     "slide_type": "subslide"
    }
   },
   "source": [
    "#### Always use custom loggers\n",
    "Creating custom loggers by using `getLogger(__name__)` automatically creates a hierarchy throughout your codebase, and makes the debugging process much cleaner.\n",
    "\n",
    "For example if your code has the following structure:\n",
    "```python\n",
    "src/\n",
    "\t- main.py\n",
    "\t- module/\n",
    "\t\t- process.py\n",
    "\t\t- submodule/\n",
    "\t\t\t- subprocess.py\n",
    "\n",
    "```\n",
    "Create a single definition for a `module` logger.\n",
    "Loggers created in process.py (__name__ = `module.process`) and subprocess.py (__name__ = `module.submodule.subprocess`) would inherit all of it's properties.\n"
   ]
  },
  {
   "cell_type": "markdown",
   "id": "c755631d",
   "metadata": {
    "slideshow": {
     "slide_type": "subslide"
    }
   },
   "source": [
    "#### Always configure root logger\n",
    "While you should never use the root logger, you should always configure it to make it easier to track errors generated by libraries which have not declared custom loggers.\n",
    "\n",
    "By default the root logger only logs to stderr."
   ]
  },
  {
   "cell_type": "markdown",
   "id": "077bf293",
   "metadata": {
    "slideshow": {
     "slide_type": "subslide"
    }
   },
   "source": [
    "#### Think about debugging and end-user context\n",
    "The needs of the end user and developper are not always aligned. Make sure your log events contain the necessary information for users to act on an error, as well as for developpers to investigate and resolve them."
   ]
  }
 ],
 "metadata": {
  "celltoolbar": "Slideshow",
  "kernelspec": {
   "display_name": "logging-101",
   "language": "python",
   "name": "logging-101"
  },
  "language_info": {
   "codemirror_mode": {
    "name": "ipython",
    "version": 3
   },
   "file_extension": ".py",
   "mimetype": "text/x-python",
   "name": "python",
   "nbconvert_exporter": "python",
   "pygments_lexer": "ipython3",
   "version": "3.8.5"
  }
 },
 "nbformat": 4,
 "nbformat_minor": 5
}
