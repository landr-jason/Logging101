{
 "cells": [
  {
   "cell_type": "markdown",
   "id": "0a7bf570",
   "metadata": {},
   "source": [
    "# Objective: \n",
    "- Override imported logger configuration: \n",
    "    - Only handle CRITICAL\n",
    "    - Write to same output file as example logger\n",
    "\n",
    "## From previous:\n",
    "- Output all logs to console\n",
    "- Write ERROR and above to file"
   ]
  },
  {
   "cell_type": "code",
   "execution_count": null,
   "id": "97eaa403",
   "metadata": {},
   "outputs": [],
   "source": [
    "output_filename = 'example3.log'\n",
    "# module_output_filename = 'example3.module.log'\n",
    "\n",
    "LOG_CONFIG = {\n",
    "    'version': 1,\n",
    "    'disable_existing_loggers': False,\n",
    "    'formatters': {\n",
    "        'default_formatter': {\n",
    "            'format': '[%(levelname)s:%(asctime)s] EXAMPLE 3 :: %(message)s'\n",
    "        },\n",
    "    },\n",
    "    'handlers': {\n",
    "        'stream_handler': {\n",
    "            'class': 'logging.StreamHandler',\n",
    "            'formatter': 'default_formatter',\n",
    "        },\n",
    "        'file_handler': {\n",
    "            'level': 'ERROR',\n",
    "            'class': 'logging.FileHandler',\n",
    "            'formatter': 'default_formatter',\n",
    "            'filename': output_filename\n",
    "        },\n",
    "    },\n",
    "    'loggers': {\n",
    "        __name__: {\n",
    "            'handlers': ['stream_handler', 'file_handler'],\n",
    "            'level': 'DEBUG',\n",
    "            'propagate': False\n",
    "        },\n",
    "        'src.mock_module':  {\n",
    "            'handlers': ['file_handler'],\n",
    "            'level': 'CRITICAL',\n",
    "            'propagate': False\n",
    "        },\n",
    "    }\n",
    "}"
   ]
  },
  {
   "cell_type": "code",
   "execution_count": null,
   "id": "b07860b6",
   "metadata": {},
   "outputs": [],
   "source": [
    "import logging.config\n",
    "\n",
    "def setup_loggers():\n",
    "    logging.config.dictConfig(LOG_CONFIG)"
   ]
  },
  {
   "cell_type": "code",
   "execution_count": null,
   "id": "5d8e1c61",
   "metadata": {},
   "outputs": [],
   "source": [
    "logger = logging.getLogger(__name__)\n",
    "\n",
    "def parent_fn(): \n",
    "    logger.debug(\"DEBUG message\")\n",
    "    logger.info(\"INFO message\")\n",
    "    logger.warning(\"WARNING message\")\n",
    "    logger.error(\"ERROR message\")\n",
    "    logger.critical(\"CRITICAL message\")"
   ]
  },
  {
   "cell_type": "code",
   "execution_count": null,
   "id": "3b7af451",
   "metadata": {},
   "outputs": [],
   "source": [
    "from src.mock_module import mock_function\n",
    "\n",
    "setup_loggers() # We need to setup loggers after import to override. Otherwise, the module's logger configuration takes effect.\n",
    "\n",
    "parent_fn()\n",
    "module_name, module_output_filename = mock_function()\n",
    "# Should output only parent_fn log messages (no MODULE messages):"
   ]
  },
  {
   "cell_type": "code",
   "execution_count": null,
   "id": "eedcacea",
   "metadata": {},
   "outputs": [],
   "source": [
    "f = open(module_output_filename, \"r\")\n",
    "print(f.read())\n",
    "# Should not contain any EXAMPLE 3 MODULE messages:"
   ]
  },
  {
   "cell_type": "code",
   "execution_count": null,
   "id": "cc4cb486",
   "metadata": {},
   "outputs": [],
   "source": [
    "f = open(output_filename, \"r\")\n",
    "print(f.read())\n",
    "# Should display only ERROR and CRITICAL messages from parent_fn:\n",
    "# Should display CRITICAL MODULE message"
   ]
  },
  {
   "cell_type": "code",
   "execution_count": null,
   "id": "c084dc3e",
   "metadata": {},
   "outputs": [],
   "source": []
  }
 ],
 "metadata": {
  "kernelspec": {
   "display_name": "logging-101",
   "language": "python",
   "name": "logging-101"
  },
  "language_info": {
   "codemirror_mode": {
    "name": "ipython",
    "version": 3
   },
   "file_extension": ".py",
   "mimetype": "text/x-python",
   "name": "python",
   "nbconvert_exporter": "python",
   "pygments_lexer": "ipython3",
   "version": "3.8.5"
  }
 },
 "nbformat": 4,
 "nbformat_minor": 5
}
