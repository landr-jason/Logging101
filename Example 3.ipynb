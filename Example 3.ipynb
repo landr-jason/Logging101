{
 "cells": [
  {
   "cell_type": "markdown",
   "id": "0a7bf570",
   "metadata": {},
   "source": [
    "Objective: Override imported logger configuration"
   ]
  },
  {
   "cell_type": "code",
   "execution_count": null,
   "id": "1a3e1b4a",
   "metadata": {},
   "outputs": [],
   "source": [
    "# import first\n"
   ]
  },
  {
   "cell_type": "code",
   "execution_count": null,
   "id": "97eaa403",
   "metadata": {},
   "outputs": [],
   "source": [
    "output_filename = 'error.log'\n",
    "LOG_CONFIG = {\n",
    "    'version': 1,\n",
    "    'disable_existing_loggers': False,\n",
    "    'formatters': {\n",
    "        'default_formatter': {\n",
    "            'format': 'EXAMPLE 3 [%(levelname)s:%(asctime)s] %(message)s'\n",
    "        },\n",
    "    },\n",
    "    'handlers': {\n",
    "        'stream_handler': {\n",
    "            'class': 'logging.StreamHandler',\n",
    "            'formatter': 'default_formatter',\n",
    "        },\n",
    "        'file_handler': {\n",
    "            'level': 'ERROR',\n",
    "            'class': 'logging.FileHandler',\n",
    "            'formatter': 'default_formatter',\n",
    "            'filename': output_filename\n",
    "        },\n",
    "    },\n",
    "    'loggers': {\n",
    "        __name__: {\n",
    "            'handlers': ['stream_handler', 'file_handler'],\n",
    "            'level': 'DEBUG',\n",
    "            'propagate': True\n",
    "        },\n",
    "        'src.mock_module':  {\n",
    "            'handlers': ['file_handler'],\n",
    "            'level': 'CRITICAL',\n",
    "            'propagate': True\n",
    "        },\n",
    "    }\n",
    "}\n",
    "\n",
    "import logging.config\n",
    "\n",
    "logging.config.dictConfig(LOG_CONFIG)\n",
    "logger = logging.getLogger(__name__)\n",
    "\n",
    "def parent_fn(): \n",
    "    logger.debug(\"debug test\")\n",
    "    logger.info(\"info test\")\n",
    "    logger.warning(\"warning test\")\n",
    "    logger.error(\"error test\")\n",
    "    logger.critical(\"critical test\")"
   ]
  },
  {
   "cell_type": "code",
   "execution_count": null,
   "id": "3b7af451",
   "metadata": {},
   "outputs": [],
   "source": [
    "parent_fn()\n",
    "\n",
    "from src.mock_module import mock_function \n",
    "module_name, module_output_path = mock_function()"
   ]
  },
  {
   "cell_type": "code",
   "execution_count": null,
   "id": "eedcacea",
   "metadata": {},
   "outputs": [],
   "source": [
    "f = open(module_output_path, \"r\")\n",
    "print(f.read())"
   ]
  },
  {
   "cell_type": "code",
   "execution_count": null,
   "id": "cc4cb486",
   "metadata": {},
   "outputs": [],
   "source": [
    "f = open(output_filename, \"r\")\n",
    "print(f.read())"
   ]
  },
  {
   "cell_type": "code",
   "execution_count": null,
   "id": "5bc4ec73",
   "metadata": {},
   "outputs": [],
   "source": []
  }
 ],
 "metadata": {
  "kernelspec": {
   "display_name": "logging-101",
   "language": "python",
   "name": "logging-101"
  },
  "language_info": {
   "codemirror_mode": {
    "name": "ipython",
    "version": 3
   },
   "file_extension": ".py",
   "mimetype": "text/x-python",
   "name": "python",
   "nbconvert_exporter": "python",
   "pygments_lexer": "ipython3",
   "version": "3.8.5"
  }
 },
 "nbformat": 4,
 "nbformat_minor": 5
}
